{
 "cells": [
  {
   "cell_type": "markdown",
   "metadata": {
    "collapsed": true
   },
   "source": [
    "# Artificial Intelligence Nanodegree\n",
    "## Machine Translation Project\n",
    "In this notebook, sections that end with **'(IMPLEMENTATION)'** in the header indicate that the following blocks of code will require additional functionality which you must provide. Please be sure to read the instructions carefully!\n",
    "\n",
    "## Introduction\n",
    "In this notebook, you will build a deep neural network that functions as part of an end-to-end machine translation pipeline. Your completed pipeline will accept English text as input and return the French translation.\n",
    "\n",
    "- **Preprocess** - You'll convert text to sequence of integers.\n",
    "- **Models** Create models which accepts a sequence of integers as input and returns a probability distribution over possible translations. After learning about the basic types of neural networks that are often used for machine translation, you will engage in your own investigations, to design your own model!\n",
    "- **Prediction** Run the model on English text."
   ]
  },
  {
   "cell_type": "code",
   "execution_count": 1,
   "metadata": {},
   "outputs": [],
   "source": [
    "%load_ext autoreload\n",
    "%aimport helper, tests\n",
    "%autoreload 1"
   ]
  },
  {
   "cell_type": "code",
   "execution_count": 2,
   "metadata": {},
   "outputs": [
    {
     "name": "stderr",
     "output_type": "stream",
     "text": [
      "Using TensorFlow backend.\n"
     ]
    }
   ],
   "source": [
    "import collections\n",
    "\n",
    "import helper\n",
    "import numpy as np\n",
    "import project_tests as tests\n",
    "\n",
    "from keras.preprocessing.text import Tokenizer\n",
    "from keras.preprocessing.sequence import pad_sequences\n",
    "from keras.models import Model\n",
    "from keras.layers import GRU, LSTM, Input, Dropout, Dense, TimeDistributed, Activation, RepeatVector, Bidirectional\n",
    "from keras.layers.embeddings import Embedding\n",
    "from keras.optimizers import Adam\n",
    "from keras.losses import sparse_categorical_crossentropy"
   ]
  },
  {
   "cell_type": "markdown",
   "metadata": {},
   "source": [
    "### Verify access to the GPU\n",
    "The following test applies only if you expect to be using a GPU, e.g., while running in a Udacity Workspace or using an AWS instance with GPU support. Run the next cell, and verify that the device_type is \"GPU\".\n",
    "- If the device is not GPU & you are running from a Udacity Workspace, then save your workspace with the icon at the top, then click \"enable\" at the bottom of the workspace.\n",
    "- If the device is not GPU & you are running from an AWS instance, then refer to the cloud computing instructions in the classroom to verify your setup steps."
   ]
  },
  {
   "cell_type": "code",
   "execution_count": 3,
   "metadata": {},
   "outputs": [
    {
     "name": "stdout",
     "output_type": "stream",
     "text": [
      "[name: \"/cpu:0\"\n",
      "device_type: \"CPU\"\n",
      "memory_limit: 268435456\n",
      "locality {\n",
      "}\n",
      "incarnation: 11659103388405916767\n",
      ", name: \"/gpu:0\"\n",
      "device_type: \"GPU\"\n",
      "memory_limit: 357433344\n",
      "locality {\n",
      "  bus_id: 1\n",
      "}\n",
      "incarnation: 1986944645418663042\n",
      "physical_device_desc: \"device: 0, name: Tesla K80, pci bus id: 0000:00:04.0\"\n",
      "]\n"
     ]
    }
   ],
   "source": [
    "from tensorflow.python.client import device_lib\n",
    "print(device_lib.list_local_devices())"
   ]
  },
  {
   "cell_type": "markdown",
   "metadata": {},
   "source": [
    "## Dataset\n",
    "We begin by investigating the dataset that will be used to train and evaluate your pipeline.  The most common datasets used for machine translation are from [WMT](http://www.statmt.org/).  However, that will take a long time to train a neural network on.  We'll be using a dataset we created for this project that contains a small vocabulary.  You'll be able to train your model in a reasonable time with this dataset.\n",
    "### Load Data\n",
    "The data is located in `data/small_vocab_en` and `data/small_vocab_fr`. The `small_vocab_en` file contains English sentences with their French translations in the `small_vocab_fr` file. Load the English and French data from these files from running the cell below."
   ]
  },
  {
   "cell_type": "code",
   "execution_count": 4,
   "metadata": {},
   "outputs": [
    {
     "name": "stdout",
     "output_type": "stream",
     "text": [
      "Dataset Loaded\n"
     ]
    }
   ],
   "source": [
    "# Load English data\n",
    "english_sentences = helper.load_data('data/small_vocab_en')\n",
    "# Load French data\n",
    "french_sentences = helper.load_data('data/small_vocab_fr')\n",
    "\n",
    "print('Dataset Loaded')"
   ]
  },
  {
   "cell_type": "markdown",
   "metadata": {},
   "source": [
    "### Files\n",
    "Each line in `small_vocab_en` contains an English sentence with the respective translation in each line of `small_vocab_fr`.  View the first two lines from each file."
   ]
  },
  {
   "cell_type": "code",
   "execution_count": 5,
   "metadata": {},
   "outputs": [
    {
     "name": "stdout",
     "output_type": "stream",
     "text": [
      "small_vocab_en Line 1:  new jersey is sometimes quiet during autumn , and it is snowy in april .\n",
      "small_vocab_fr Line 1:  new jersey est parfois calme pendant l' automne , et il est neigeux en avril .\n",
      "small_vocab_en Line 2:  the united states is usually chilly during july , and it is usually freezing in november .\n",
      "small_vocab_fr Line 2:  les états-unis est généralement froid en juillet , et il gèle habituellement en novembre .\n"
     ]
    }
   ],
   "source": [
    "for sample_i in range(2):\n",
    "    print('small_vocab_en Line {}:  {}'.format(sample_i + 1, english_sentences[sample_i]))\n",
    "    print('small_vocab_fr Line {}:  {}'.format(sample_i + 1, french_sentences[sample_i]))"
   ]
  },
  {
   "cell_type": "markdown",
   "metadata": {},
   "source": [
    "From looking at the sentences, you can see they have been preprocessed already.  The puncuations have been delimited using spaces. All the text have been converted to lowercase.  This should save you some time, but the text requires more preprocessing.\n",
    "### Vocabulary\n",
    "The complexity of the problem is determined by the complexity of the vocabulary.  A more complex vocabulary is a more complex problem.  Let's look at the complexity of the dataset we'll be working with."
   ]
  },
  {
   "cell_type": "code",
   "execution_count": 6,
   "metadata": {},
   "outputs": [
    {
     "name": "stdout",
     "output_type": "stream",
     "text": [
      "1823250 English words.\n",
      "227 unique English words.\n",
      "10 Most common words in the English dataset:\n",
      "\"is\" \",\" \".\" \"in\" \"it\" \"during\" \"the\" \"but\" \"and\" \"sometimes\"\n",
      "\n",
      "1961295 French words.\n",
      "355 unique French words.\n",
      "10 Most common words in the French dataset:\n",
      "\"est\" \".\" \",\" \"en\" \"il\" \"les\" \"mais\" \"et\" \"la\" \"parfois\"\n"
     ]
    }
   ],
   "source": [
    "english_words_counter = collections.Counter([word for sentence in english_sentences for word in sentence.split()])\n",
    "french_words_counter = collections.Counter([word for sentence in french_sentences for word in sentence.split()])\n",
    "\n",
    "print('{} English words.'.format(len([word for sentence in english_sentences for word in sentence.split()])))\n",
    "print('{} unique English words.'.format(len(english_words_counter)))\n",
    "print('10 Most common words in the English dataset:')\n",
    "print('\"' + '\" \"'.join(list(zip(*english_words_counter.most_common(10)))[0]) + '\"')\n",
    "print()\n",
    "print('{} French words.'.format(len([word for sentence in french_sentences for word in sentence.split()])))\n",
    "print('{} unique French words.'.format(len(french_words_counter)))\n",
    "print('10 Most common words in the French dataset:')\n",
    "print('\"' + '\" \"'.join(list(zip(*french_words_counter.most_common(10)))[0]) + '\"')"
   ]
  },
  {
   "cell_type": "markdown",
   "metadata": {},
   "source": [
    "For comparison, _Alice's Adventures in Wonderland_ contains 2,766 unique words of a total of 15,500 words.\n",
    "## Preprocess\n",
    "For this project, you won't use text data as input to your model. Instead, you'll convert the text into sequences of integers using the following preprocess methods:\n",
    "1. Tokenize the words into ids\n",
    "2. Add padding to make all the sequences the same length.\n",
    "\n",
    "Time to start preprocessing the data...\n",
    "### Tokenize (IMPLEMENTATION)\n",
    "For a neural network to predict on text data, it first has to be turned into data it can understand. Text data like \"dog\" is a sequence of ASCII character encodings.  Since a neural network is a series of multiplication and addition operations, the input data needs to be number(s).\n",
    "\n",
    "We can turn each character into a number or each word into a number.  These are called character and word ids, respectively.  Character ids are used for character level models that generate text predictions for each character.  A word level model uses word ids that generate text predictions for each word.  Word level models tend to learn better, since they are lower in complexity, so we'll use those.\n",
    "\n",
    "Turn each sentence into a sequence of words ids using Keras's [`Tokenizer`](https://keras.io/preprocessing/text/#tokenizer) function. Use this function to tokenize `english_sentences` and `french_sentences` in the cell below.\n",
    "\n",
    "Running the cell will run `tokenize` on sample data and show output for debugging."
   ]
  },
  {
   "cell_type": "code",
   "execution_count": 7,
   "metadata": {},
   "outputs": [
    {
     "name": "stdout",
     "output_type": "stream",
     "text": [
      "{'.': 1, 'the': 2, 'quick': 3, 'a': 4, 'brown': 5, 'fox': 6, 'jumps': 7, 'over': 8, 'lazy': 9, 'dog': 10, 'by': 11, 'jove': 12, ',': 13, 'my': 14, 'study': 15, 'of': 16, 'lexicography': 17, 'won': 18, 'prize': 19, 'this': 20, 'is': 21, 'short': 22, 'sentence': 23}\n",
      "\n",
      "Sequence 1 in x\n",
      "  Input:  The quick brown fox jumps over the lazy dog .\n",
      "  Output: [2, 3, 5, 6, 7, 8, 2, 9, 10, 1]\n",
      "Sequence 2 in x\n",
      "  Input:  By Jove , my quick study of lexicography won a prize .\n",
      "  Output: [11, 12, 13, 14, 3, 15, 16, 17, 18, 4, 19, 1]\n",
      "Sequence 3 in x\n",
      "  Input:  This is a short sentence .\n",
      "  Output: [20, 21, 4, 22, 23, 1]\n"
     ]
    }
   ],
   "source": [
    "def tokenize(x):\n",
    "    \"\"\"\n",
    "    Tokenize x\n",
    "    :param x: List of sentences/strings to be tokenized\n",
    "    :return: Tuple of (tokenized x data, tokenizer used to tokenize x)\n",
    "    \"\"\"\n",
    "    # TODO: Implement\n",
    "    tokenizer = Tokenizer(filters='')\n",
    "    tokenizer.fit_on_texts(x)\n",
    "    return tokenizer.texts_to_sequences(x), tokenizer\n",
    "tests.test_tokenize(tokenize)\n",
    "\n",
    "# Tokenize Example output\n",
    "text_sentences = [\n",
    "    'The quick brown fox jumps over the lazy dog .',\n",
    "    'By Jove , my quick study of lexicography won a prize .',\n",
    "    'This is a short sentence .']\n",
    "text_tokenized, text_tokenizer = tokenize(text_sentences)\n",
    "print(text_tokenizer.word_index)\n",
    "print()\n",
    "for sample_i, (sent, token_sent) in enumerate(zip(text_sentences, text_tokenized)):\n",
    "    print('Sequence {} in x'.format(sample_i + 1))\n",
    "    print('  Input:  {}'.format(sent))\n",
    "    print('  Output: {}'.format(token_sent))"
   ]
  },
  {
   "cell_type": "markdown",
   "metadata": {},
   "source": [
    "### Padding (IMPLEMENTATION)\n",
    "When batching the sequence of word ids together, each sequence needs to be the same length.  Since sentences are dynamic in length, we can add padding to the end of the sequences to make them the same length.\n",
    "\n",
    "Make sure all the English sequences have the same length and all the French sequences have the same length by adding padding to the **end** of each sequence using Keras's [`pad_sequences`](https://keras.io/preprocessing/sequence/#pad_sequences) function."
   ]
  },
  {
   "cell_type": "code",
   "execution_count": 8,
   "metadata": {},
   "outputs": [
    {
     "name": "stdout",
     "output_type": "stream",
     "text": [
      "Sequence 1 in x\n",
      "  Input:  [ 2  3  5  6  7  8  2  9 10  1]\n",
      "  Output: [ 2  3  5  6  7  8  2  9 10  1  0  0]\n",
      "Sequence 2 in x\n",
      "  Input:  [11 12 13 14  3 15 16 17 18  4 19  1]\n",
      "  Output: [11 12 13 14  3 15 16 17 18  4 19  1]\n",
      "Sequence 3 in x\n",
      "  Input:  [20 21  4 22 23  1]\n",
      "  Output: [20 21  4 22 23  1  0  0  0  0  0  0]\n"
     ]
    }
   ],
   "source": [
    "def pad(x, length=None):\n",
    "    \"\"\"\n",
    "    Pad x\n",
    "    :param x: List of sequences.\n",
    "    :param length: Length to pad the sequence to.  If None, use length of longest sequence in x.\n",
    "    :return: Padded numpy array of sequences\n",
    "    \"\"\"\n",
    "    # TODO: Implement\n",
    "    if length == None:\n",
    "        length = np.max([len(seq) for seq in x])\n",
    "    return pad_sequences(x, maxlen=length, padding='post')\n",
    "tests.test_pad(pad)\n",
    "\n",
    "# Pad Tokenized output\n",
    "test_pad = pad(text_tokenized)\n",
    "for sample_i, (token_sent, pad_sent) in enumerate(zip(text_tokenized, test_pad)):\n",
    "    print('Sequence {} in x'.format(sample_i + 1))\n",
    "    print('  Input:  {}'.format(np.array(token_sent)))\n",
    "    print('  Output: {}'.format(pad_sent))"
   ]
  },
  {
   "cell_type": "markdown",
   "metadata": {},
   "source": [
    "### Preprocess Pipeline\n",
    "Your focus for this project is to build neural network architecture, so we won't ask you to create a preprocess pipeline.  Instead, we've provided you with the implementation of the `preprocess` function."
   ]
  },
  {
   "cell_type": "code",
   "execution_count": 9,
   "metadata": {},
   "outputs": [
    {
     "name": "stdout",
     "output_type": "stream",
     "text": [
      "Data Preprocessed\n",
      "Max English sentence length: 17\n",
      "Max French sentence length: 23\n",
      "English vocabulary size: 227\n",
      "French vocabulary size: 354\n"
     ]
    }
   ],
   "source": [
    "def preprocess(x, y):\n",
    "    \"\"\"\n",
    "    Preprocess x and y\n",
    "    :param x: Feature List of sentences\n",
    "    :param y: Label List of sentences\n",
    "    :return: Tuple of (Preprocessed x, Preprocessed y, x tokenizer, y tokenizer)\n",
    "    \"\"\"\n",
    "    preprocess_x, x_tk = tokenize(x)\n",
    "    preprocess_y, y_tk = tokenize(y)\n",
    "\n",
    "    preprocess_x = pad(preprocess_x)\n",
    "    preprocess_y = pad(preprocess_y)\n",
    "\n",
    "    # Keras's sparse_categorical_crossentropy function requires the labels to be in 3 dimensions\n",
    "    preprocess_y = preprocess_y.reshape(*preprocess_y.shape, 1)\n",
    "\n",
    "    return preprocess_x, preprocess_y, x_tk, y_tk\n",
    "\n",
    "preproc_english_sentences, preproc_french_sentences, english_tokenizer, french_tokenizer =\\\n",
    "    preprocess(english_sentences, french_sentences)\n",
    "    \n",
    "max_english_sequence_length = preproc_english_sentences.shape[1]\n",
    "max_french_sequence_length = preproc_french_sentences.shape[1]\n",
    "english_vocab_size = len(english_tokenizer.word_index)\n",
    "french_vocab_size = len(french_tokenizer.word_index)\n",
    "\n",
    "print('Data Preprocessed')\n",
    "print(\"Max English sentence length:\", max_english_sequence_length)\n",
    "print(\"Max French sentence length:\", max_french_sequence_length)\n",
    "print(\"English vocabulary size:\", english_vocab_size)\n",
    "print(\"French vocabulary size:\", french_vocab_size)"
   ]
  },
  {
   "cell_type": "markdown",
   "metadata": {},
   "source": [
    "## Models\n",
    "In this section, you will experiment with various neural network architectures.\n",
    "You will begin by training four relatively simple architectures.\n",
    "- Model 1 is a simple RNN\n",
    "- Model 2 is a RNN with Embedding\n",
    "- Model 3 is a Bidirectional RNN\n",
    "- Model 4 is an optional Encoder-Decoder RNN\n",
    "\n",
    "After experimenting with the four simple architectures, you will construct a deeper architecture that is designed to outperform all four models.\n",
    "### Ids Back to Text\n",
    "The neural network will be translating the input to words ids, which isn't the final form we want.  We want the French translation.  The function `logits_to_text` will bridge the gab between the logits from the neural network to the French translation.  You'll be using this function to better understand the output of the neural network."
   ]
  },
  {
   "cell_type": "code",
   "execution_count": 10,
   "metadata": {},
   "outputs": [
    {
     "name": "stdout",
     "output_type": "stream",
     "text": [
      "`logits_to_text` function loaded.\n"
     ]
    }
   ],
   "source": [
    "def logits_to_text(logits, tokenizer):\n",
    "    \"\"\"\n",
    "    Turn logits from a neural network into text using the tokenizer\n",
    "    :param logits: Logits from a neural network\n",
    "    :param tokenizer: Keras Tokenizer fit on the labels\n",
    "    :return: String that represents the text of the logits\n",
    "    \"\"\"\n",
    "    index_to_words = {id: word for word, id in tokenizer.word_index.items()}\n",
    "    index_to_words[0] = '<PAD>'\n",
    "\n",
    "    return ' '.join([index_to_words[prediction] for prediction in np.argmax(logits, 1)])\n",
    "\n",
    "print('`logits_to_text` function loaded.')"
   ]
  },
  {
   "cell_type": "markdown",
   "metadata": {},
   "source": [
    "## Separate the data into training and testing sets"
   ]
  },
  {
   "cell_type": "code",
   "execution_count": 11,
   "metadata": {},
   "outputs": [
    {
     "name": "stdout",
     "output_type": "stream",
     "text": [
      "There are 110288 training samples and 27573 test samples\n"
     ]
    }
   ],
   "source": [
    "from sklearn.model_selection import train_test_split\n",
    "x_train, x_test, y_train, y_test = train_test_split(preproc_english_sentences, preproc_french_sentences, test_size=0.2, random_state=3)\n",
    "print(\"There are {} training samples and {} test samples\".format(x_train.shape[0], x_test.shape[0]))"
   ]
  },
  {
   "cell_type": "markdown",
   "metadata": {},
   "source": [
    "### Model 1: RNN (IMPLEMENTATION)\n",
    "![RNN](images/rnn.png)\n",
    "A basic RNN model is a good baseline for sequence data.  In this model, you'll build a RNN that translates English to French."
   ]
  },
  {
   "cell_type": "code",
   "execution_count": 27,
   "metadata": {},
   "outputs": [
    {
     "name": "stdout",
     "output_type": "stream",
     "text": [
      "_________________________________________________________________\n",
      "Layer (type)                 Output Shape              Param #   \n",
      "=================================================================\n",
      "input_11 (InputLayer)        (None, 21, 1)             0         \n",
      "_________________________________________________________________\n",
      "lstm_9 (LSTM)                (None, 21, 256)           264192    \n",
      "_________________________________________________________________\n",
      "time_distributed_21 (TimeDis (None, 21, 512)           131584    \n",
      "_________________________________________________________________\n",
      "time_distributed_22 (TimeDis (None, 21, 344)           176472    \n",
      "=================================================================\n",
      "Total params: 572,248\n",
      "Trainable params: 572,248\n",
      "Non-trainable params: 0\n",
      "_________________________________________________________________\n",
      "_________________________________________________________________\n",
      "Layer (type)                 Output Shape              Param #   \n",
      "=================================================================\n",
      "input_12 (InputLayer)        (None, 23, 1)             0         \n",
      "_________________________________________________________________\n",
      "lstm_10 (LSTM)               (None, 23, 256)           264192    \n",
      "_________________________________________________________________\n",
      "time_distributed_23 (TimeDis (None, 23, 512)           131584    \n",
      "_________________________________________________________________\n",
      "time_distributed_24 (TimeDis (None, 23, 354)           181602    \n",
      "=================================================================\n",
      "Total params: 577,378\n",
      "Trainable params: 577,378\n",
      "Non-trainable params: 0\n",
      "_________________________________________________________________\n",
      "Train on 88230 samples, validate on 22058 samples\n",
      "Epoch 1/10\n",
      "88230/88230 [==============================] - 15s - loss: 2.6146 - acc: 0.4516 - val_loss: nan - val_acc: 0.5292\n",
      "Epoch 2/10\n",
      "88230/88230 [==============================] - 14s - loss: 1.6363 - acc: 0.5694 - val_loss: nan - val_acc: 0.5947\n",
      "Epoch 3/10\n",
      "88230/88230 [==============================] - 14s - loss: 1.3811 - acc: 0.6081 - val_loss: nan - val_acc: 0.6188\n",
      "Epoch 4/10\n",
      "88230/88230 [==============================] - 14s - loss: 1.2672 - acc: 0.6266 - val_loss: nan - val_acc: 0.6272\n",
      "Epoch 5/10\n",
      "88230/88230 [==============================] - 14s - loss: 1.2006 - acc: 0.6387 - val_loss: nan - val_acc: 0.6508\n",
      "Epoch 6/10\n",
      "88230/88230 [==============================] - 14s - loss: 1.1513 - acc: 0.6484 - val_loss: nan - val_acc: 0.6551\n",
      "Epoch 7/10\n",
      "88230/88230 [==============================] - 14s - loss: 1.1116 - acc: 0.6547 - val_loss: nan - val_acc: 0.6636\n",
      "Epoch 8/10\n",
      "88230/88230 [==============================] - 14s - loss: 1.0791 - acc: 0.6625 - val_loss: nan - val_acc: 0.6659\n",
      "Epoch 9/10\n",
      "88230/88230 [==============================] - 14s - loss: 1.0467 - acc: 0.6699 - val_loss: nan - val_acc: 0.6783\n",
      "Epoch 10/10\n",
      "88230/88230 [==============================] - 14s - loss: 1.0216 - acc: 0.6765 - val_loss: nan - val_acc: 0.6729\n",
      "Predicted logits:  [[[  1.97333580e-10   3.23373956e-06   1.36513897e-10 ...,   1.67678577e-12\n",
      "     1.08568926e-12   1.93322011e-10]\n",
      "  [  2.58093014e-09   5.17595232e-01   5.24195798e-10 ...,   1.04649735e-14\n",
      "     2.94090178e-15   3.02366232e-14]\n",
      "  [  2.02876396e-10   2.07082033e-01   4.56371119e-09 ...,   8.26895247e-13\n",
      "     1.59401843e-13   2.28094404e-10]\n",
      "  ..., \n",
      "  [  9.99967217e-01   2.89584912e-10   3.01989676e-05 ...,   5.25688566e-17\n",
      "     5.82008208e-18   5.79028070e-16]\n",
      "  [  9.99982238e-01   2.34991193e-10   1.60636355e-05 ...,   2.96972895e-17\n",
      "     3.46003736e-18   4.11258530e-16]\n",
      "  [  9.99987602e-01   2.01368838e-10   1.10048413e-05 ...,   2.05545846e-17\n",
      "     2.50851392e-18   3.22650811e-16]]]\n",
      "l' est est en mois , , il il est jamais en en . <PAD> <PAD> <PAD> <PAD> <PAD> <PAD> <PAD> <PAD> <PAD>\n"
     ]
    }
   ],
   "source": [
    "def simple_model(input_shape, output_sequence_length, english_vocab_size, french_vocab_size):\n",
    "    \"\"\"\n",
    "    Build and train a basic RNN on x and y\n",
    "    :param input_shape: Tuple of input shape\n",
    "    :param output_sequence_length: Length of output sequence\n",
    "    :param english_vocab_size: Number of unique English words in the dataset\n",
    "    :param french_vocab_size: Number of unique French words in the dataset\n",
    "    :return: Keras model built, but not trained\n",
    "    \"\"\"\n",
    "    # TODO: Build the layers\n",
    "    learning_rate = 0.001\n",
    "    inputs = Input(shape=input_shape[1:])\n",
    "    lstm_rnn = LSTM(256, return_sequences=True)(inputs)\n",
    "    dense1 = TimeDistributed(Dense(512, activation='relu'))(lstm_rnn)\n",
    "    outputs = TimeDistributed(Dense(french_vocab_size, activation='softmax'))(dense1)\n",
    "    model = Model(inputs=inputs, outputs=outputs)\n",
    "    model.compile(loss=sparse_categorical_crossentropy,\n",
    "                  optimizer=Adam(learning_rate),\n",
    "                  metrics=['accuracy'])\n",
    "    model.summary()\n",
    "    return model\n",
    "tests.test_simple_model(simple_model)\n",
    "\n",
    "# Reshaping the input to work with a basic RNN\n",
    "tmp_x = pad(x_train, max_french_sequence_length)\n",
    "tmp_x = tmp_x.reshape((-1, preproc_french_sentences.shape[-2], 1))\n",
    "\n",
    "# Train the neural network\n",
    "simple_rnn_model = simple_model(\n",
    "    tmp_x.shape,\n",
    "    max_french_sequence_length,\n",
    "    english_vocab_size,\n",
    "    french_vocab_size)\n",
    "simple_rnn_scores = simple_rnn_model.fit(tmp_x, y_train, batch_size=1024, epochs=10, validation_split=0.2)\n",
    "\n",
    "# Print prediction(s)\n",
    "print(\"Predicted logits: \", simple_rnn_model.predict(tmp_x[:1]))\n",
    "print(logits_to_text(simple_rnn_model.predict(tmp_x[:1])[0], french_tokenizer))"
   ]
  },
  {
   "cell_type": "markdown",
   "metadata": {},
   "source": [
    "### Model 2: Embedding (IMPLEMENTATION)\n",
    "![RNN](images/embedding.png)\n",
    "You've turned the words into ids, but there's a better representation of a word.  This is called word embeddings.  An embedding is a vector representation of the word that is close to similar words in n-dimensional space, where the n represents the size of the embedding vectors.\n",
    "\n",
    "In this model, you'll create a RNN model using embedding."
   ]
  },
  {
   "cell_type": "code",
   "execution_count": 28,
   "metadata": {},
   "outputs": [
    {
     "name": "stdout",
     "output_type": "stream",
     "text": [
      "_________________________________________________________________\n",
      "Layer (type)                 Output Shape              Param #   \n",
      "=================================================================\n",
      "input_13 (InputLayer)        (None, 21)                0         \n",
      "_________________________________________________________________\n",
      "embedding_11 (Embedding)     (None, 21, 300)           59700     \n",
      "_________________________________________________________________\n",
      "lstm_11 (LSTM)               (None, 21, 256)           570368    \n",
      "_________________________________________________________________\n",
      "time_distributed_25 (TimeDis (None, 21, 512)           131584    \n",
      "_________________________________________________________________\n",
      "time_distributed_26 (TimeDis (None, 21, 344)           176472    \n",
      "=================================================================\n",
      "Total params: 938,124\n",
      "Trainable params: 938,124\n",
      "Non-trainable params: 0\n",
      "_________________________________________________________________\n",
      "_________________________________________________________________\n",
      "Layer (type)                 Output Shape              Param #   \n",
      "=================================================================\n",
      "input_14 (InputLayer)        (None, 23)                0         \n",
      "_________________________________________________________________\n",
      "embedding_12 (Embedding)     (None, 23, 300)           68400     \n",
      "_________________________________________________________________\n",
      "lstm_12 (LSTM)               (None, 23, 256)           570368    \n",
      "_________________________________________________________________\n",
      "time_distributed_27 (TimeDis (None, 23, 512)           131584    \n",
      "_________________________________________________________________\n",
      "time_distributed_28 (TimeDis (None, 23, 355)           182115    \n",
      "=================================================================\n",
      "Total params: 952,467\n",
      "Trainable params: 952,467\n",
      "Non-trainable params: 0\n",
      "_________________________________________________________________\n",
      "Train on 88230 samples, validate on 22058 samples\n",
      "Epoch 1/10\n",
      "88230/88230 [==============================] - 18s - loss: 3.0137 - acc: 0.4316 - val_loss: 2.1725 - val_acc: 0.5115\n",
      "Epoch 2/10\n",
      "88230/88230 [==============================] - 16s - loss: 1.6797 - acc: 0.5713 - val_loss: 1.3216 - val_acc: 0.6397\n",
      "Epoch 3/10\n",
      "88230/88230 [==============================] - 16s - loss: 1.0888 - acc: 0.7033 - val_loss: 0.8961 - val_acc: 0.7486\n",
      "Epoch 4/10\n",
      "88230/88230 [==============================] - 16s - loss: 0.7662 - acc: 0.7844 - val_loss: 0.6685 - val_acc: 0.8046\n",
      "Epoch 5/10\n",
      "88230/88230 [==============================] - 16s - loss: 0.5976 - acc: 0.8219 - val_loss: 0.6083 - val_acc: 0.8115\n",
      "Epoch 6/10\n",
      "88230/88230 [==============================] - 17s - loss: 0.5187 - acc: 0.8381 - val_loss: 0.4865 - val_acc: 0.8461\n",
      "Epoch 7/10\n",
      "88230/88230 [==============================] - 17s - loss: 0.4572 - acc: 0.8544 - val_loss: 0.4420 - val_acc: 0.8575\n",
      "Epoch 8/10\n",
      "88230/88230 [==============================] - 16s - loss: 0.4196 - acc: 0.8651 - val_loss: 0.4069 - val_acc: 0.8665\n",
      "Epoch 9/10\n",
      "88230/88230 [==============================] - 17s - loss: 0.3874 - acc: 0.8746 - val_loss: 0.3822 - val_acc: 0.8760\n",
      "Epoch 10/10\n",
      "88230/88230 [==============================] - 17s - loss: 0.3625 - acc: 0.8823 - val_loss: 0.3693 - val_acc: 0.8777\n",
      "Predicted logits:  [[[  2.44959075e-08   6.13185286e-04   3.05304582e-08 ...,   1.21918905e-16\n",
      "     4.23190112e-15   1.12936872e-17]\n",
      "  [  2.01297380e-14   1.25742843e-02   1.12934239e-13 ...,   4.24035694e-27\n",
      "     1.40527051e-23   1.43962385e-28]\n",
      "  [  4.74100793e-12   9.57715273e-01   1.38060299e-10 ...,   2.64666316e-26\n",
      "     1.37241824e-23   3.89522100e-28]\n",
      "  ..., \n",
      "  [  9.99973774e-01   3.00344277e-10   2.19718913e-05 ...,   3.65350989e-24\n",
      "     1.74147103e-22   5.02516969e-25]\n",
      "  [  9.99979734e-01   3.49603096e-10   1.69688683e-05 ...,   1.92801727e-24\n",
      "     9.08511036e-23   2.51281411e-25]\n",
      "  [  9.99986172e-01   5.16715726e-10   1.12054713e-05 ...,   1.06794826e-24\n",
      "     5.19445532e-23   1.31996250e-25]]]\n",
      "l' inde est calme en septembre , et il est jamais neige neige en . <PAD> <PAD> <PAD> <PAD> <PAD> <PAD> <PAD> <PAD>\n"
     ]
    }
   ],
   "source": [
    "def embed_model(input_shape, output_sequence_length, english_vocab_size, french_vocab_size):\n",
    "    \"\"\"\n",
    "    Build and train a RNN model using word embedding on x and y\n",
    "    :param input_shape: Tuple of input shape\n",
    "    :param output_sequence_length: Length of output sequence\n",
    "    :param english_vocab_size: Number of unique English words in the dataset\n",
    "    :param french_vocab_size: Number of unique French words in the dataset\n",
    "    :return: Keras model built, but not trained\n",
    "    \"\"\"\n",
    "    # TODO: Implement\n",
    "    embedding_size = 300\n",
    "    inputs = Input(shape=(input_shape[1],)) # shape does not include the batch size\n",
    "    embeddings = Embedding(english_vocab_size, embedding_size, input_length = input_shape[1])(inputs)\n",
    "    lstm_rnn = LSTM(256, return_sequences=True)(embeddings)\n",
    "    dense1 = TimeDistributed(Dense(512, activation='relu'))(lstm_rnn)\n",
    "    outputs = TimeDistributed(Dense(french_vocab_size, activation='softmax'))(dense1)\n",
    "    \n",
    "    model = Model(inputs=inputs, outputs=outputs)\n",
    "    model.compile(loss=sparse_categorical_crossentropy,\n",
    "                  optimizer=Adam(),\n",
    "                  metrics=['accuracy'])\n",
    "    model.summary()\n",
    "    \n",
    "    return model\n",
    "tests.test_embed_model(embed_model)\n",
    "\n",
    "# TODO: Reshape the input\n",
    "tmp_x = pad(x_train, max_french_sequence_length)\n",
    "\n",
    "# TODO: Train the neural network\n",
    "embed_rnn_model = embed_model(\n",
    "    tmp_x.shape,\n",
    "    max_french_sequence_length,\n",
    "    english_vocab_size+1,\n",
    "    french_vocab_size+1)\n",
    "embed_rnn_scores = embed_rnn_model.fit(tmp_x, y_train, batch_size=1024, epochs=10, validation_split=0.2)\n",
    "\n",
    "# Print prediction(s)\n",
    "print(\"Predicted logits: \", embed_rnn_model.predict(tmp_x[:1]))\n",
    "print(logits_to_text(embed_rnn_model.predict(tmp_x[:1])[0], french_tokenizer))"
   ]
  },
  {
   "cell_type": "markdown",
   "metadata": {},
   "source": [
    "### Model 3: Bidirectional RNNs (IMPLEMENTATION)\n",
    "![RNN](images/bidirectional.png)\n",
    "One restriction of a RNN is that it can't see the future input, only the past.  This is where bidirectional recurrent neural networks come in.  They are able to see the future data."
   ]
  },
  {
   "cell_type": "code",
   "execution_count": 29,
   "metadata": {},
   "outputs": [
    {
     "name": "stdout",
     "output_type": "stream",
     "text": [
      "Train on 88230 samples, validate on 22058 samples\n",
      "Epoch 1/10\n",
      "88230/88230 [==============================] - 26s - loss: 2.2468 - acc: 0.5157 - val_loss: nan - val_acc: 0.5857\n",
      "Epoch 2/10\n",
      "88230/88230 [==============================] - 24s - loss: 1.4116 - acc: 0.6060 - val_loss: nan - val_acc: 0.6220\n",
      "Epoch 3/10\n",
      "88230/88230 [==============================] - 24s - loss: 1.2428 - acc: 0.6345 - val_loss: nan - val_acc: 0.6474\n",
      "Epoch 4/10\n",
      "88230/88230 [==============================] - 24s - loss: 1.1612 - acc: 0.6504 - val_loss: nan - val_acc: 0.6529\n",
      "Epoch 5/10\n",
      "88230/88230 [==============================] - 24s - loss: 1.1017 - acc: 0.6620 - val_loss: nan - val_acc: 0.6688\n",
      "Epoch 6/10\n",
      "88230/88230 [==============================] - 24s - loss: 1.0569 - acc: 0.6693 - val_loss: nan - val_acc: 0.6712\n",
      "Epoch 7/10\n",
      "88230/88230 [==============================] - 24s - loss: 1.0197 - acc: 0.6757 - val_loss: nan - val_acc: 0.6727\n",
      "Epoch 8/10\n",
      "88230/88230 [==============================] - 24s - loss: 0.9874 - acc: 0.6813 - val_loss: nan - val_acc: 0.6796\n",
      "Epoch 9/10\n",
      "88230/88230 [==============================] - 24s - loss: 0.9598 - acc: 0.6862 - val_loss: nan - val_acc: 0.6891\n",
      "Epoch 10/10\n",
      "88230/88230 [==============================] - 24s - loss: 0.9350 - acc: 0.6918 - val_loss: nan - val_acc: 0.6900\n",
      "l' est est en mois , et il il jamais jamais en en . . <PAD> <PAD> <PAD> <PAD> <PAD> <PAD> <PAD> <PAD>\n"
     ]
    }
   ],
   "source": [
    "def bd_model(input_shape, output_sequence_length, english_vocab_size, french_vocab_size):\n",
    "    \"\"\"\n",
    "    Build and train a bidirectional RNN model on x and y\n",
    "    :param input_shape: Tuple of input shape\n",
    "    :param output_sequence_length: Length of output sequence\n",
    "    :param english_vocab_size: Number of unique English words in the dataset\n",
    "    :param french_vocab_size: Number of unique French words in the dataset\n",
    "    :return: Keras model built, but not trained\n",
    "    \"\"\"\n",
    "    # TODO: Implement\n",
    "    learning_rate = 0.001\n",
    "    rnn_size = 256\n",
    "    inputs = Input(shape=input_shape[1:])\n",
    "    bd_rnn = Bidirectional(LSTM(rnn_size, return_sequences=True))(inputs)\n",
    "    dense1 = TimeDistributed(Dense(512, activation='relu'))(bd_rnn)\n",
    "    out = Dense(french_vocab_size, activation='softmax')\n",
    "    outputs = TimeDistributed(out)(dense1)\n",
    "    model = Model(inputs=inputs, outputs=outputs)\n",
    "    model.compile(loss=sparse_categorical_crossentropy,\n",
    "                  optimizer=Adam(learning_rate),\n",
    "                  metrics=['accuracy'])\n",
    "    #model.summary()\n",
    "    return model\n",
    "\n",
    "tests.test_bd_model(bd_model)\n",
    "\n",
    "# TODO: Train and Print prediction(s)\n",
    "# Reshaping the input to work with BD RNN\n",
    "tmp_x = pad(x_train, max_french_sequence_length)\n",
    "tmp_x = tmp_x.reshape((-1, preproc_french_sentences.shape[-2], 1))\n",
    "\n",
    "# Train the neural network\n",
    "bd_rnn_model = bd_model(\n",
    "    tmp_x.shape,\n",
    "    max_french_sequence_length,\n",
    "    english_vocab_size,\n",
    "    french_vocab_size)\n",
    "bd_rnn_scores = bd_rnn_model.fit(tmp_x, y_train, batch_size=1024, epochs=10, validation_split=0.2)\n",
    "\n",
    "# Print prediction(s)\n",
    "print(logits_to_text(bd_rnn_model.predict(tmp_x[:1])[0], french_tokenizer))"
   ]
  },
  {
   "cell_type": "markdown",
   "metadata": {},
   "source": [
    "### Model 4: Encoder-Decoder (OPTIONAL)\n",
    "Time to look at encoder-decoder models.  This model is made up of an encoder and decoder. The encoder creates a matrix representation of the sentence.  The decoder takes this matrix as input and predicts the translation as output.\n",
    "\n",
    "Create an encoder-decoder model in the cell below."
   ]
  },
  {
   "cell_type": "code",
   "execution_count": 30,
   "metadata": {},
   "outputs": [
    {
     "name": "stdout",
     "output_type": "stream",
     "text": [
      "_________________________________________________________________\n",
      "Layer (type)                 Output Shape              Param #   \n",
      "=================================================================\n",
      "input_17 (InputLayer)        (None, 15, 1)             0         \n",
      "_________________________________________________________________\n",
      "lstm_15 (LSTM)               (None, 256)               264192    \n",
      "_________________________________________________________________\n",
      "repeat_vector_1 (RepeatVecto (None, 21, 256)           0         \n",
      "_________________________________________________________________\n",
      "lstm_16 (LSTM)               (None, 21, 256)           525312    \n",
      "_________________________________________________________________\n",
      "time_distributed_33 (TimeDis (None, 21, 512)           131584    \n",
      "_________________________________________________________________\n",
      "dense_34 (Dense)             (None, 21, 344)           176472    \n",
      "=================================================================\n",
      "Total params: 1,097,560\n",
      "Trainable params: 1,097,560\n",
      "Non-trainable params: 0\n",
      "_________________________________________________________________\n",
      "_________________________________________________________________\n",
      "Layer (type)                 Output Shape              Param #   \n",
      "=================================================================\n",
      "input_18 (InputLayer)        (None, 17, 1)             0         \n",
      "_________________________________________________________________\n",
      "lstm_17 (LSTM)               (None, 256)               264192    \n",
      "_________________________________________________________________\n",
      "repeat_vector_2 (RepeatVecto (None, 23, 256)           0         \n",
      "_________________________________________________________________\n",
      "lstm_18 (LSTM)               (None, 23, 256)           525312    \n",
      "_________________________________________________________________\n",
      "time_distributed_34 (TimeDis (None, 23, 512)           131584    \n",
      "_________________________________________________________________\n",
      "dense_36 (Dense)             (None, 23, 354)           181602    \n",
      "=================================================================\n",
      "Total params: 1,102,690\n",
      "Trainable params: 1,102,690\n",
      "Non-trainable params: 0\n",
      "_________________________________________________________________\n",
      "Train on 88230 samples, validate on 22058 samples\n",
      "Epoch 1/10\n",
      "88230/88230 [==============================] - 25s - loss: 2.9732 - acc: 0.4200 - val_loss: nan - val_acc: 0.4909\n",
      "Epoch 2/10\n",
      "88230/88230 [==============================] - 23s - loss: 1.9709 - acc: 0.5259 - val_loss: nan - val_acc: 0.5521\n",
      "Epoch 3/10\n",
      "88230/88230 [==============================] - 23s - loss: 1.5646 - acc: 0.5685 - val_loss: nan - val_acc: 0.5823\n",
      "Epoch 4/10\n",
      "88230/88230 [==============================] - 23s - loss: 1.4430 - acc: 0.5900 - val_loss: nan - val_acc: 0.6016\n",
      "Epoch 5/10\n",
      "88230/88230 [==============================] - 23s - loss: 1.3530 - acc: 0.6084 - val_loss: nan - val_acc: 0.6188\n",
      "Epoch 6/10\n",
      "88230/88230 [==============================] - 23s - loss: 1.2944 - acc: 0.6193 - val_loss: nan - val_acc: 0.6223\n",
      "Epoch 7/10\n",
      "88230/88230 [==============================] - 23s - loss: 1.2507 - acc: 0.6290 - val_loss: nan - val_acc: 0.6332\n",
      "Epoch 8/10\n",
      "88230/88230 [==============================] - 23s - loss: 1.2031 - acc: 0.6379 - val_loss: nan - val_acc: 0.6304\n",
      "Epoch 9/10\n",
      "88230/88230 [==============================] - 23s - loss: 1.1571 - acc: 0.6443 - val_loss: nan - val_acc: 0.6493\n",
      "Epoch 10/10\n",
      "88230/88230 [==============================] - 23s - loss: 1.1272 - acc: 0.6481 - val_loss: nan - val_acc: 0.6399\n"
     ]
    }
   ],
   "source": [
    "### Simple encoder - decoder\n",
    "\n",
    "from keras.layers import Reshape, Lambda, Concatenate, RepeatVector\n",
    "import tensorflow as tf\n",
    "import keras.backend as K\n",
    "\n",
    "def encdec_model(input_shape, output_sequence_length, english_vocab_size, french_vocab_size):\n",
    "    \"\"\"\n",
    "    Build and train an encoder-decoder model on x and y\n",
    "    :param input_shape: Tuple of input shape\n",
    "    :param output_sequence_length: Length of output sequence\n",
    "    :param english_vocab_size: Number of unique English words in the dataset\n",
    "    :param french_vocab_size: Number of unique French words in the dataset\n",
    "    :return: Keras model built, but not trained\n",
    "    \"\"\"\n",
    "    ## Encoder\n",
    "    inputs = Input(shape=input_shape[1:]) # number of encoder time steps x 1\n",
    "    encoder_rnn = LSTM(256)\n",
    "    encoder_rnn_outputs = encoder_rnn(inputs)\n",
    "    \n",
    "    ## Decoder\n",
    "    decoder_inputs = RepeatVector(output_sequence_length)(encoder_rnn_outputs)\n",
    "    decoder_rnn = LSTM(256, return_sequences=True)\n",
    "    decoder_rnn_output = decoder_rnn(decoder_inputs)\n",
    "    decoder_dense1 = TimeDistributed(Dense(512, activation='relu'))(decoder_rnn_output)\n",
    "    decoder_dense2 = Dense(french_vocab_size, activation='softmax')\n",
    "    outputs = decoder_dense2(decoder_dense1)\n",
    "    \n",
    "    model = Model(inputs=inputs, outputs=outputs) \n",
    "    model.compile(loss=sparse_categorical_crossentropy,\n",
    "                  optimizer=Adam(),\n",
    "                  metrics=['accuracy'])\n",
    "    model.summary()\n",
    "    return model\n",
    "\n",
    "tests.test_encdec_model(encdec_model)\n",
    "\n",
    "# Reshaping the input to work with encode decode\n",
    "tmp_x = pad(x_train, max_english_sequence_length)\n",
    "tmp_x = tmp_x.reshape((-1, x_train.shape[1], 1))\n",
    "\n",
    "\n",
    "# add 1 to french_vocab_size to account for the range in y from 0 - french_vocab_size\n",
    "encdec_rnn_model = encdec_model(\n",
    "    tmp_x.shape,\n",
    "    max_french_sequence_length,\n",
    "    english_vocab_size,\n",
    "    french_vocab_size)\n",
    "\n",
    "encdec_rnn_scores = encdec_rnn_model.fit(tmp_x, y_train, batch_size=1024, epochs=10, validation_split=0.2)\n"
   ]
  },
  {
   "cell_type": "markdown",
   "metadata": {},
   "source": [
    "### Model 5: Custom (IMPLEMENTATION)\n",
    "Use everything you learned from the previous models to create a model that incorporates embedding and a bidirectional rnn into one model."
   ]
  },
  {
   "cell_type": "code",
   "execution_count": 16,
   "metadata": {},
   "outputs": [
    {
     "name": "stdout",
     "output_type": "stream",
     "text": [
      "_________________________________________________________________\n",
      "Layer (type)                 Output Shape              Param #   \n",
      "=================================================================\n",
      "input_5 (InputLayer)         (None, 23)                0         \n",
      "_________________________________________________________________\n",
      "embedding_5 (Embedding)      (None, 23, 300)           68400     \n",
      "_________________________________________________________________\n",
      "bidirectional_5 (Bidirection (None, 23, 512)           855552    \n",
      "_________________________________________________________________\n",
      "dropout_3 (Dropout)          (None, 23, 512)           0         \n",
      "_________________________________________________________________\n",
      "time_distributed_9 (TimeDist (None, 23, 512)           262656    \n",
      "_________________________________________________________________\n",
      "time_distributed_10 (TimeDis (None, 23, 355)           182115    \n",
      "=================================================================\n",
      "Total params: 1,368,723\n",
      "Trainable params: 1,368,723\n",
      "Non-trainable params: 0\n",
      "_________________________________________________________________\n",
      "Train on 88230 samples, validate on 22058 samples\n",
      "Epoch 1/10\n",
      "88230/88230 [==============================] - 30s 344us/step - loss: 1.9015 - acc: 0.5867 - val_loss: 0.9151 - val_acc: 0.7530\n",
      "Epoch 2/10\n",
      "88230/88230 [==============================] - 29s 334us/step - loss: 0.7424 - acc: 0.7853 - val_loss: 0.5226 - val_acc: 0.8426\n",
      "Epoch 3/10\n",
      "88230/88230 [==============================] - 30s 335us/step - loss: 0.4838 - acc: 0.8503 - val_loss: 0.3670 - val_acc: 0.8851\n",
      "Epoch 4/10\n",
      "88230/88230 [==============================] - 29s 334us/step - loss: 0.3693 - acc: 0.8831 - val_loss: 0.2822 - val_acc: 0.9107\n",
      "Epoch 5/10\n",
      "88230/88230 [==============================] - 29s 334us/step - loss: 0.3011 - acc: 0.9046 - val_loss: 0.2422 - val_acc: 0.9255\n",
      "Epoch 6/10\n",
      "88230/88230 [==============================] - 30s 334us/step - loss: 0.2586 - acc: 0.9186 - val_loss: 0.2070 - val_acc: 0.9357\n",
      "Epoch 7/10\n",
      "88230/88230 [==============================] - 29s 334us/step - loss: 0.2238 - acc: 0.9296 - val_loss: 0.1930 - val_acc: 0.9407\n",
      "Epoch 8/10\n",
      "88230/88230 [==============================] - 29s 332us/step - loss: 0.1985 - acc: 0.9378 - val_loss: 0.1577 - val_acc: 0.9512\n",
      "Epoch 9/10\n",
      "88230/88230 [==============================] - 29s 334us/step - loss: 0.1797 - acc: 0.9435 - val_loss: 0.1485 - val_acc: 0.9538\n",
      "Epoch 10/10\n",
      "88230/88230 [==============================] - 29s 334us/step - loss: 0.1615 - acc: 0.9492 - val_loss: 0.1404 - val_acc: 0.9561\n",
      "l' inde est calme en septembre , et il est jamais de neige en décembre . <PAD> <PAD> <PAD> <PAD> <PAD> <PAD> <PAD>\n",
      "27573/27573 [==============================] - 3s 92us/step\n",
      "Train accuracy: 0.949\n",
      "Validation accuracy: 0.956\n",
      "Test accuracy: 0.957\n"
     ]
    }
   ],
   "source": [
    "def model_final(input_shape, output_sequence_length, english_vocab_size, french_vocab_size):\n",
    "    \"\"\"\n",
    "    Build and train a model that incorporates embedding, encoder-decoder, and bidirectional RNN on x and y\n",
    "    :param input_shape: Tuple of input shape\n",
    "    :param output_sequence_length: Length of output sequence\n",
    "    :param english_vocab_size: Number of unique English words in the dataset\n",
    "    :param french_vocab_size: Number of unique French words in the dataset\n",
    "    :return: Keras model built, but not trained\n",
    "    \"\"\"\n",
    "    embedding_size = 300\n",
    "    rnn_size = 256\n",
    "    \n",
    "    inputs = Input(shape=input_shape[1:])\n",
    "    embeddings = Embedding(english_vocab_size, embedding_size, input_length = input_shape[1])(inputs)    \n",
    "    rnn = Bidirectional(GRU(rnn_size, return_sequences=True))(embeddings)\n",
    "    drop1 = Dropout(0.5)(rnn)\n",
    "    dense1 = TimeDistributed(Dense(512, activation='relu'))(drop1)\n",
    "    \n",
    "    dense2 = Dense(french_vocab_size, activation='softmax')\n",
    "    outputs = TimeDistributed(dense2)(dense1)\n",
    "    \n",
    "    model = Model(inputs=inputs, outputs=outputs)\n",
    "    model.compile(loss=sparse_categorical_crossentropy,\n",
    "                  optimizer=Adam(),\n",
    "                  metrics=['accuracy'])\n",
    "    model.summary()\n",
    "    \n",
    "    return model\n",
    "\n",
    "# comment out test code because input seq length != output seq length and will throw an error\n",
    "# input != output seq length because I'm not using encode/decode. When I added encode/decode, \n",
    "# accuracy went way down\n",
    "# tests.test_model_final(model_final)\n",
    "# TODO: Train the final model\n",
    "tmp_x = pad(x_train, max_french_sequence_length)\n",
    "\n",
    "# Train the neural network\n",
    "final_rnn_model = model_final(\n",
    "    tmp_x.shape,\n",
    "    max_french_sequence_length,\n",
    "    english_vocab_size+1,\n",
    "    french_vocab_size+1)\n",
    "final_rnn_scores = final_rnn_model.fit(tmp_x, y_train, batch_size=512, epochs=10, validation_split=0.2)\n",
    "\n",
    "# Print prediction(s)\n",
    "print(logits_to_text(final_rnn_model.predict(tmp_x[:1])[0], french_tokenizer))\n",
    "\n",
    "tmp_x_test = pad(x_test, max_french_sequence_length)\n",
    "\n",
    "train_accuracy = final_rnn_scores.history['acc'][-1]\n",
    "validation_accuracy = final_rnn_scores.history['val_acc'][-1]\n",
    "test_accuracy = final_rnn_model.evaluate(x=tmp_x_test, y=y_test, batch_size=1024)[1]\n",
    "print(\"Train accuracy: {:.3f}\\nValidation accuracy: {:.3f}\\nTest accuracy: {:.3f}\"\n",
    "      .format(train_accuracy, validation_accuracy, test_accuracy))\n"
   ]
  },
  {
   "cell_type": "code",
   "execution_count": 41,
   "metadata": {},
   "outputs": [
    {
     "data": {
      "text/plain": [
       "<matplotlib.legend.Legend at 0x7fb74e7ee860>"
      ]
     },
     "execution_count": 41,
     "metadata": {},
     "output_type": "execute_result"
    },
    {
     "data": {
      "image/png": "[encoded data removed]",
      "text/plain": [
       "<matplotlib.figure.Figure at 0x7fb75982bd30>"
      ]
     },
     "metadata": {},
     "output_type": "display_data"
    }
   ],
   "source": [
    "# Summarize the performance of the previous models during training\n",
    "%matplotlib inline\n",
    "import matplotlib.pyplot as plt\n",
    "plt.plot(np.arange(10), simple_rnn_scores.history['val_acc'], 'r-',\n",
    "         np.arange(10), embed_rnn_scores.history['val_acc'], 'b-',\n",
    "         np.arange(10), bd_rnn_scores.history['val_acc'], 'g-',\n",
    "         np.arange(10), encdec_rnn_scores.history['val_acc'], 'y-',\n",
    "         np.arange(10), final_rnn_scores.history['val_acc'], 'k-')\n",
    "plt.legend(['Simple RNN', 'Embed RNN', 'Bidirectional RNN', 'Encoder Decoder RNN', 'Final Model'])"
   ]
  },
  {
   "cell_type": "code",
   "execution_count": 42,
   "metadata": {},
   "outputs": [
    {
     "name": "stdout",
     "output_type": "stream",
     "text": [
      "27573/27573 [==============================] - 1s     \n",
      "27573/27573 [==============================] - 1s     \n",
      "27573/27573 [==============================] - 2s     \n",
      "27573/27573 [==============================] - 2s     \n",
      "27573/27573 [==============================] - 2s     \n",
      "Model: Simple RNN, test accuracy: 0.67\n",
      "Model: Embed RNN, test accuracy: 0.88\n",
      "Model: Bidirectional RNN, test accuracy: 0.69\n",
      "Model: Encode decode, test accuracy: 0.64\n",
      "Model: Final RNN, test accuracy: 0.93\n"
     ]
    }
   ],
   "source": [
    "## summarize test accuracies of each model\n",
    "tmp_x_test = pad(x_test, max_french_sequence_length)\n",
    "tmp_x_test2 = tmp_x_test.reshape((-1, preproc_french_sentences.shape[-2], 1))\n",
    "tmp_x_test3 = pad(x_test, max_english_sequence_length)\n",
    "tmp_x_test3 = tmp_x_test3.reshape((-1, x_test.shape[1], 1))\n",
    "\n",
    "model_names = ['Simple RNN', \n",
    "               'Embed RNN', \n",
    "               'Bidirectional RNN', \n",
    "               'Encode decode', \n",
    "               'Final RNN']\n",
    "\n",
    "model_inputs = [(simple_rnn_model, tmp_x_test2),\n",
    "          (embed_rnn_model, tmp_x_test),\n",
    "          (bd_rnn_model, tmp_x_test2),\n",
    "          (encdec_rnn_model, tmp_x_test3),\n",
    "          (final_rnn_model, tmp_x_test)]\n",
    "test_accuracies = [m.evaluate(x=x, y=y_test, batch_size=1024)[1] for (m, x) in model_inputs]\n",
    "for (m, acc) in zip(model_names, test_accuracies):\n",
    "    print(\"Model: {}, test accuracy: {:.2f}\".format(m, acc))\n"
   ]
  },
  {
   "cell_type": "markdown",
   "metadata": {},
   "source": [
    "## Prediction (IMPLEMENTATION)"
   ]
  },
  {
   "cell_type": "code",
   "execution_count": 18,
   "metadata": {},
   "outputs": [
    {
     "name": "stdout",
     "output_type": "stream",
     "text": [
      "_________________________________________________________________\n",
      "Layer (type)                 Output Shape              Param #   \n",
      "=================================================================\n",
      "input_7 (InputLayer)         (None, 23)                0         \n",
      "_________________________________________________________________\n",
      "embedding_7 (Embedding)      (None, 23, 300)           68400     \n",
      "_________________________________________________________________\n",
      "bidirectional_7 (Bidirection (None, 23, 512)           855552    \n",
      "_________________________________________________________________\n",
      "dropout_5 (Dropout)          (None, 23, 512)           0         \n",
      "_________________________________________________________________\n",
      "time_distributed_13 (TimeDis (None, 23, 512)           262656    \n",
      "_________________________________________________________________\n",
      "time_distributed_14 (TimeDis (None, 23, 355)           182115    \n",
      "=================================================================\n",
      "Total params: 1,368,723\n",
      "Trainable params: 1,368,723\n",
      "Non-trainable params: 0\n",
      "_________________________________________________________________\n",
      "Train on 110288 samples, validate on 27573 samples\n",
      "Epoch 1/10\n",
      "110288/110288 [==============================] - 38s 343us/step - loss: 1.7386 - acc: 0.6097 - val_loss: 0.7955 - val_acc: 0.7730\n",
      "Epoch 2/10\n",
      "110288/110288 [==============================] - 37s 332us/step - loss: 0.6392 - acc: 0.8094 - val_loss: 0.4416 - val_acc: 0.8627\n",
      "Epoch 3/10\n",
      "110288/110288 [==============================] - 37s 332us/step - loss: 0.4198 - acc: 0.8687 - val_loss: 0.3050 - val_acc: 0.9032\n",
      "Epoch 4/10\n",
      "110288/110288 [==============================] - 37s 333us/step - loss: 0.3170 - acc: 0.8994 - val_loss: 0.2365 - val_acc: 0.9261\n",
      "Epoch 5/10\n",
      "110288/110288 [==============================] - 37s 332us/step - loss: 0.2595 - acc: 0.9179 - val_loss: 0.2154 - val_acc: 0.9308\n",
      "Epoch 6/10\n",
      "110288/110288 [==============================] - 37s 333us/step - loss: 0.2181 - acc: 0.9316 - val_loss: 0.1669 - val_acc: 0.9478\n",
      "Epoch 7/10\n",
      "110288/110288 [==============================] - 37s 333us/step - loss: 0.1914 - acc: 0.9399 - val_loss: 0.1503 - val_acc: 0.9532\n",
      "Epoch 8/10\n",
      "110288/110288 [==============================] - 37s 333us/step - loss: 0.1689 - acc: 0.9469 - val_loss: 0.1591 - val_acc: 0.9501\n",
      "Epoch 9/10\n",
      "110288/110288 [==============================] - 37s 333us/step - loss: 0.1522 - acc: 0.9522 - val_loss: 0.1336 - val_acc: 0.9585\n",
      "Epoch 10/10\n",
      "110288/110288 [==============================] - 37s 333us/step - loss: 0.1395 - acc: 0.9562 - val_loss: 0.1140 - val_acc: 0.9651\n",
      "Sample 1:\n",
      "il a vu un vieux camion jaune . <PAD> <PAD> <PAD> <PAD> <PAD> <PAD> <PAD> <PAD> <PAD> <PAD> <PAD> <PAD> <PAD> <PAD> <PAD>\n",
      "Il a vu un vieux camion jaune\n",
      "Sample 2:\n",
      "new jersey est parfois calme pendant l' automne , et il est neigeux en avril . <PAD> <PAD> <PAD> <PAD> <PAD> <PAD> <PAD>\n",
      "new jersey est parfois calme pendant l' automne , et il est neigeux en avril . <PAD> <PAD> <PAD> <PAD> <PAD> <PAD> <PAD>\n"
     ]
    }
   ],
   "source": [
    "def final_predictions(x, y, x_tk, y_tk):\n",
    "    \"\"\"\n",
    "    Gets predictions using the final model\n",
    "    :param x: Preprocessed English data\n",
    "    :param y: Preprocessed French data\n",
    "    :param x_tk: English tokenizer\n",
    "    :param y_tk: French tokenizer\n",
    "    \"\"\"\n",
    "    # TODO: Train neural network using model_final\n",
    "    x = pad(x, y.shape[-2])\n",
    "    final_rnn_model = model_final(\n",
    "        x.shape,\n",
    "        y.shape[-2],\n",
    "        len(x_tk.word_index) + 1,\n",
    "        len(y_tk.word_index) + 1)\n",
    "    final_rnn_scores = final_rnn_model.fit(x, y, batch_size=512, epochs=10, validation_split=0.2)\n",
    "    \n",
    "    \n",
    "    ## DON'T EDIT ANYTHING BELOW THIS LINE\n",
    "    y_id_to_word = {value: key for key, value in y_tk.word_index.items()}\n",
    "    y_id_to_word[0] = '<PAD>'\n",
    "\n",
    "    sentence = 'he saw a old yellow truck'\n",
    "    sentence = [x_tk.word_index[word] for word in sentence.split()]\n",
    "    sentence = pad_sequences([sentence], maxlen=x.shape[-1], padding='post')\n",
    "    sentences = np.array([sentence[0], x[0]])\n",
    "    predictions = final_rnn_model.predict(sentences, len(sentences))\n",
    "\n",
    "    print('Sample 1:')\n",
    "    print(' '.join([y_id_to_word[np.argmax(x)] for x in predictions[0]]))\n",
    "    print('Il a vu un vieux camion jaune')\n",
    "    print('Sample 2:')\n",
    "    print(' '.join([y_id_to_word[np.argmax(x)] for x in predictions[1]]))\n",
    "    print(' '.join([y_id_to_word[np.max(x)] for x in y[0]]))\n",
    "\n",
    "    \n",
    "final_predictions(preproc_english_sentences, preproc_french_sentences, english_tokenizer, french_tokenizer)"
   ]
  },
  {
   "cell_type": "markdown",
   "metadata": {},
   "source": [
    "## Submission\n",
    "When you're ready to submit, complete the following steps:\n",
    "1. Review the [rubric](https://review.udacity.com/#!/rubrics/1004/view) to ensure your submission meets all requirements to pass\n",
    "2. Generate an HTML version of this notebook\n",
    "\n",
    "  - Run the next cell to attempt automatic generation (this is the recommended method in Workspaces)\n",
    "  - Navigate to **FILE -> Download as -> HTML (.html)**\n",
    "  - Manually generate a copy using `nbconvert` from your shell terminal\n",
    "```\n",
    "$ pip install nbconvert\n",
    "$ python -m nbconvert machine_translation.ipynb\n",
    "```\n",
    "  \n",
    "3. Submit the project\n",
    "\n",
    "  - If you are in a Workspace, simply click the \"Submit Project\" button (bottom towards the right)\n",
    "  \n",
    "  - Otherwise, add the following files into a zip archive and submit them \n",
    "  - `helper.py`\n",
    "  - `machine_translation.ipynb`\n",
    "  - `machine_translation.html`\n",
    "    - You can export the notebook by navigating to **File -> Download as -> HTML (.html)**."
   ]
  },
  {
   "cell_type": "markdown",
   "metadata": {},
   "source": [
    "### Generate the html\n",
    "\n",
    "**Save your notebook before running the next cell to generate the HTML output.** Then submit your project."
   ]
  },
  {
   "cell_type": "code",
   "execution_count": 19,
   "metadata": {},
   "outputs": [
    {
     "data": {
      "text/plain": [
       "['[NbConvertApp] Converting notebook machine_translation.ipynb to html',\n",
       " '[NbConvertApp] Writing 443755 bytes to machine_translation.html',\n",
       " '[NbConvertApp] Converting notebook machine_translation-zh.ipynb to html',\n",
       " '[NbConvertApp] Writing 328614 bytes to machine_translation-zh.html']"
      ]
     },
     "execution_count": 19,
     "metadata": {},
     "output_type": "execute_result"
    }
   ],
   "source": [
    "# Save before you run this cell!\n",
    "!!jupyter nbconvert *.ipynb"
   ]
  },
  {
   "cell_type": "markdown",
   "metadata": {},
   "source": [
    "## Optional Enhancements\n",
    "\n",
    "This project focuses on learning various network architectures for machine translation, but we don't evaluate the models according to best practices by splitting the data into separate test & training sets -- so the model accuracy is overstated. Use the [`sklearn.model_selection.train_test_split()`](http://scikit-learn.org/stable/modules/generated/sklearn.model_selection.train_test_split.html) function to create separate training & test datasets, then retrain each of the models using only the training set and evaluate the prediction accuracy using the hold out test set. Does the \"best\" model change?"
   ]
  },
  {
   "cell_type": "code",
   "execution_count": 40,
   "metadata": {},
   "outputs": [
    {
     "name": "stdout",
     "output_type": "stream",
     "text": [
      "Train on 88230 samples, validate on 22058 samples\n",
      "Epoch 1/10\n",
      "88230/88230 [==============================] - 25s 287us/step - loss: 2.9038 - acc: 0.4439 - val_loss: 1.8022 - val_acc: 0.5650\n",
      "Epoch 2/10\n",
      "88230/88230 [==============================] - 13s 152us/step - loss: 1.4123 - acc: 0.6628 - val_loss: 1.0730 - val_acc: 0.7340\n",
      "Epoch 3/10\n",
      "88230/88230 [==============================] - 14s 153us/step - loss: 0.9070 - acc: 0.7675 - val_loss: 0.7803 - val_acc: 0.7927\n",
      "Epoch 4/10\n",
      "88230/88230 [==============================] - 13s 150us/step - loss: 0.7107 - acc: 0.8046 - val_loss: 0.6472 - val_acc: 0.8220\n",
      "Epoch 5/10\n",
      "88230/88230 [==============================] - 14s 154us/step - loss: 0.5969 - acc: 0.8360 - val_loss: 0.5503 - val_acc: 0.8471\n",
      "Epoch 6/10\n",
      "88230/88230 [==============================] - 13s 151us/step - loss: 0.5137 - acc: 0.8583 - val_loss: 0.4807 - val_acc: 0.8658\n",
      "Epoch 7/10\n",
      "88230/88230 [==============================] - 13s 152us/step - loss: 0.4538 - acc: 0.8701 - val_loss: 0.4315 - val_acc: 0.8726\n",
      "Epoch 8/10\n",
      "88230/88230 [==============================] - 13s 150us/step - loss: 0.4108 - acc: 0.8781 - val_loss: 0.3933 - val_acc: 0.8816\n",
      "Epoch 9/10\n",
      "88230/88230 [==============================] - 13s 152us/step - loss: 0.3902 - acc: 0.8815 - val_loss: 0.3693 - val_acc: 0.8885\n",
      "Epoch 10/10\n",
      "88230/88230 [==============================] - 14s 154us/step - loss: 0.3467 - acc: 0.8924 - val_loss: 0.3327 - val_acc: 0.8965\n"
     ]
    }
   ],
   "source": [
    "from keras.layers import Reshape, Lambda, Concatenate\n",
    "import tensorflow as tf\n",
    "import keras.backend as K\n",
    "\n",
    "## Encoder decoder globals to re-use in the inference model ##\n",
    "encoder_rnn = GRU(128)\n",
    "#decoder_rnn = GRU(128, return_sequences=True, return_state=True)\n",
    "decoder_rnn = GRU(128, return_state=True)\n",
    "\n",
    "decoder_densor = Dense(french_vocab_size+1, activation='softmax')\n",
    "    \n",
    "def encdec_model_v2(input_shape, output_sequence_length, english_vocab_size, french_vocab_size):\n",
    "    \"\"\"\n",
    "    Build and train an encoder-decoder model on x and y\n",
    "    :param input_shape: Tuple of input shape\n",
    "    :param output_sequence_length: Length of output sequence\n",
    "    :param english_vocab_size: Number of unique English words in the dataset\n",
    "    :param french_vocab_size: Number of unique French words in the dataset\n",
    "    :return: Keras model built, but not trained\n",
    "    \"\"\"\n",
    "    ## Encoder\n",
    "    inputs = Input(shape=input_shape[1:]) # number of encoder time steps x 1\n",
    "    encoder_rnn_outputs = encoder_rnn(inputs)\n",
    "    \n",
    "    ## Decoder\n",
    "    ## during training this is the target translation shifted by 1 time step\n",
    "    ## i.e. previous time step's translation becomes the input to current time step\n",
    "    decoder_inputs = Input(shape=(None, 1)) # \n",
    "    outputs = []\n",
    "    decoder_state = encoder_rnn_outputs\n",
    "    \n",
    "    for t in range(output_sequence_length):\n",
    "        # select the \"t\"th time step vector from X. \n",
    "        decoder_input_t = Lambda(lambda x: decoder_inputs[:,t,:])(decoder_inputs)\n",
    "        decoder_input_t = Reshape((1, 1))(decoder_input_t)\n",
    "        decoder_rnn_output, decoder_state = decoder_rnn(decoder_input_t, initial_state=decoder_state)\n",
    "        decoder_output = decoder_densor(decoder_rnn_output)\n",
    "        decoder_output = Reshape((1, french_vocab_size))(decoder_output) # reshape to 3D, with timestep in 2nd dimension\n",
    "        outputs.append(decoder_output)\n",
    "    \n",
    "    outputs = Concatenate(axis=-2)(outputs)\n",
    "    \n",
    "    model = Model(inputs=[inputs, decoder_inputs], outputs=outputs) \n",
    "    model.compile(loss=sparse_categorical_crossentropy,\n",
    "                  optimizer=Adam(),\n",
    "                  metrics=['accuracy'])\n",
    "    #model.summary()\n",
    "    return model\n",
    "\n",
    "def encdec_inference_model(input_shape, output_sequence_length, english_vocab_size, french_vocab_size):\n",
    "    # Define the input of your model with a shape \n",
    "    inputs = Input(shape=input_shape[1:])\n",
    "    decoder_init_state = encoder_rnn(inputs)\n",
    "    \n",
    "    outputs = []\n",
    "    decoder_state = decoder_init_state\n",
    "    output0 = Input(shape=(None, 1))\n",
    "    output = output0\n",
    "\n",
    "    for t in range(output_sequence_length):\n",
    "        est_output, decoder_state = decoder_rnn(output, initial_state=decoder_state)\n",
    "        est_output = decoder_densor(est_output)\n",
    "        est_output = Reshape((1, french_vocab_size))(est_output) # reshape to 3D, with timestep in 2nd dimension\n",
    "        \n",
    "        outputs.append(est_output)\n",
    "        \n",
    "        # transform output to indices to represent selected word\n",
    "        output = Lambda(K.argmax, arguments={'axis':-1})(est_output)\n",
    "        output = Reshape((-1, 1))(output)\n",
    "        output = Lambda(K.cast, arguments={'dtype': tf.float32})(output)\n",
    "    \n",
    "    outputs = Concatenate(axis=-2)(outputs)\n",
    "    model = Model(inputs=[inputs, output0], outputs=outputs)\n",
    "    return model\n",
    "\n",
    "\n",
    "# Reshaping the input to work with encode decode\n",
    "tmp_x = pad(x_train, max_english_sequence_length)\n",
    "tmp_x = tmp_x.reshape((-1, x_train.shape[1], 1))\n",
    "\n",
    "# Train the neural network\n",
    "start_matrix = np.zeros((y_train.shape[0], 1, 1))\n",
    "decoder_inputs = np.concatenate([start_matrix, y_train[:, 1:, :]], \n",
    "                          axis=1)\n",
    "\n",
    "# add 1 to french_vocab_size to account for the range in y from 0 - french_vocab_size\n",
    "encdec_rnn_model = encdec_model_v2(\n",
    "    tmp_x.shape,\n",
    "    max_french_sequence_length,\n",
    "    english_vocab_size+1,\n",
    "    french_vocab_size+1)\n",
    "\n",
    "encdec_rnn_scores = encdec_rnn_model.fit([tmp_x, decoder_inputs], y_train, batch_size=1024, epochs=10, validation_split=0.2)\n",
    "inference_model = encdec_inference_model(\n",
    "    tmp_x.shape,\n",
    "    max_french_sequence_length,\n",
    "    english_vocab_size+1,\n",
    "    french_vocab_size+1)\n"
   ]
  },
  {
   "cell_type": "code",
   "execution_count": 42,
   "metadata": {},
   "outputs": [
    {
     "name": "stdout",
     "output_type": "stream",
     "text": [
      "[\"l' agréable agréable au au l' l' l' l' l' l' l' au au au au l' l' l' jamais jamais jamais jamais\"]\n"
     ]
    }
   ],
   "source": [
    "## Check example translations -- the result seems weird\n",
    "results = inference_model.predict([tmp_x[:1], np.zeros((1, 1, 1))])\n",
    "print([logits_to_text(r, french_tokenizer) for r in results])\n"
   ]
  }
 ],
 "metadata": {
  "kernelspec": {
   "display_name": "Python 3",
   "language": "python",
   "name": "python3"
  },
  "language_info": {
   "codemirror_mode": {
    "name": "ipython",
    "version": 3
   },
   "file_extension": ".py",
   "mimetype": "text/x-python",
   "name": "python",
   "nbconvert_exporter": "python",
   "pygments_lexer": "ipython3",
   "version": "3.6.3"
  }
 },
 "nbformat": 4,
 "nbformat_minor": 1
}
